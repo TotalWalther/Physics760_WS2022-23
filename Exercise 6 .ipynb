{
 "cells": [
  {
   "cell_type": "markdown",
   "id": "f97ef592",
   "metadata": {},
   "source": [
    "# Exercises for Computational Physics (physics760)\n",
    "# WS 2022/ 23\n",
    "## Exercise 6"
   ]
  },
  {
   "cell_type": "markdown",
   "id": "59119f52",
   "metadata": {},
   "source": [
    "### 7.1\n",
    "\n",
    "You dont not expect C to be biased. Because of the translational invariance of $H$ for $h=0$ follows:\n",
    "\n",
    "$e^{-H(s)}(s_i*s_j)=e^{-H(-s)}((-s_i)*(-s_j))=e^{-H(s)}((-s_i)*(-s_j))$\n",
    "\n",
    "This means, that different spin configurations, which contribute to the bias for $\\langle m \\rangle$, don´t have the same effect on C."
   ]
  },
  {
   "cell_type": "markdown",
   "id": "45631bc2",
   "metadata": {},
   "source": [
    "### 7.2\n",
    "\n",
    "$C_{i,i}=(s_i*s_i)=1 \\Rightarrow C_r=\\frac{\\sum_{i\\in\\Lambda}C_{i,i}}{\\Lambda}=\\frac{\\sum_{i \\in\\Lambda}1}{\\Lambda}=\\frac{\\Lambda}{\\Lambda}=1$"
   ]
  },
  {
   "cell_type": "code",
   "execution_count": null,
   "id": "3116cd10",
   "metadata": {},
   "outputs": [],
   "source": []
  }
 ],
 "metadata": {
  "kernelspec": {
   "display_name": "Python 3 (ipykernel)",
   "language": "python",
   "name": "python3"
  },
  "language_info": {
   "codemirror_mode": {
    "name": "ipython",
    "version": 3
   },
   "file_extension": ".py",
   "mimetype": "text/x-python",
   "name": "python",
   "nbconvert_exporter": "python",
   "pygments_lexer": "ipython3",
   "version": "3.9.13"
  }
 },
 "nbformat": 4,
 "nbformat_minor": 5
}

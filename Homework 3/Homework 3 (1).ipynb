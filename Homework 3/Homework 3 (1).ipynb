{
 "cells": [
  {
   "cell_type": "markdown",
   "id": "cea85aab",
   "metadata": {},
   "source": [
    "Kleiner Tipp: über _< span style=\"color:red\">  < span>_ kann der Text _<span style=\"color:red\">rot kursiv_<span> geschrieben werden, wie es auf dem Aufgabenblatt gefordert wird (iwie bekloppt though). Vgl.: Please adress all questions and requirements wirtten below in _italics_ and <span style=\"color:red\">red font<span style=\"color:black\"> in your homework report."
   ]
  },
  {
   "cell_type": "markdown",
   "id": "60f34857",
   "metadata": {},
   "source": [
    "### Question 1\n",
    "\n",
    "_<span style=\"color:red\">mean magnetization per site: $m[\\phi]=\\frac{\\sinh(\\beta h\\pm\\phi)}{\\cosh(\\beta \\pm\\phi)}=\\tanh(\\beta h\\pm\\phi)\\Rightarrow\\langle m[\\phi]\\rangle=\\frac1{N_{cfg}}\\sum_{\\phi\\in\\{\\phi\\}}\\tanh(\\beta h\\pm\\phi)$_<span>\n",
    "    \n",
    "_<span style=\"color:red\">mean energy per site: $\\epsilon(\\phi)=-\\frac{\\phi^2-3\\beta}{3\\beta^2}\\frac1{2N}-h\\tanh(\\beta h\\pm\\phi)\\Rightarrow\\langle \\epsilon[\\phi]\\rangle=-\\frac1{N_{cfg}}\\sum_{\\phi\\in\\{\\phi\\}}\\frac{\\phi^2-3\\beta}{3\\beta^2}\\frac1{2N_{cfg}}+h\\tanh(\\beta h\\pm\\phi)$_<span>"
   ]
  },
  {
   "cell_type": "code",
   "execution_count": 1,
   "id": "90124f28",
   "metadata": {},
   "outputs": [],
   "source": [
    "import numpy as np\n",
    "from  math import *\n",
    "import matplotlib.pyplot as plt\n",
    "import scipy.optimize as so\n",
    "import scipy.special as sp\n",
    "import mpmath as mp\n",
    "\n",
    "# was hat es mit dem p_0 auf sich? bzw kann man das nicht in eine globale Varibale verwandeln\n",
    "\n",
    "\n",
    "# N_x=10\n",
    "# N_y=10\n",
    "# T=1\n",
    "# J=0.5/T\n",
    "\n",
    "N_md = 100 #Leapfrog integration steps\n",
    "N_en = 100\n",
    "N_cfg = 2\n",
    "beta=1\n",
    "N=20\n",
    "h=0.5\n",
    "beta_h=0.5\n",
    "J=1/N\n",
    "phi_0 = 0\n",
    "p_0 = 0 \n",
    "I = 10\n",
    "A = 15"
   ]
  },
  {
   "cell_type": "code",
   "execution_count": 2,
   "id": "494f7803",
   "metadata": {},
   "outputs": [],
   "source": [
    "def calc_magn(phi_en): \n",
    "    global beta_h\n",
    "    global N_cfg\n",
    "    global N_en\n",
    "    global I\n",
    "    global A\n",
    "    \n",
    "    M_array = np.zeros(N_en)\n",
    "    M_array_I = np.zeros(int((N_en-I)/A))\n",
    "    \n",
    "    for i in range(N_en):\n",
    "        phi_v = phi_en[i]\n",
    "        M_array[i] = np.tanh(beta_h+phi_v) \n",
    "        \n",
    "    M=0\n",
    "    \n",
    "    M_array_I = M_array[I::A]\n",
    "    \n",
    "    M=np.sum(M_array_I)\n",
    "    \n",
    "    return M/N_cfg"
   ]
  },
  {
   "cell_type": "code",
   "execution_count": 3,
   "id": "1fd97faa",
   "metadata": {},
   "outputs": [],
   "source": [
    "def calc_eps(phi_en): \n",
    "    global beta_h\n",
    "    global h\n",
    "    global beta\n",
    "    global N_cfg\n",
    "    \n",
    "    e_array = np.zeros(N_en)\n",
    "        \n",
    "    for i in range(len(phi_en)):\n",
    "        \n",
    "        e_array[i]= (phi_en[i]**2-3*beta)/(3*beta**2)*1/(N_cfg)+h*mp.tanh(beta_h+phi_en[i])\n",
    "    \n",
    "    e = np.sum(e_array)\n",
    "    \n",
    "    return -e/N_cfg"
   ]
  },
  {
   "cell_type": "code",
   "execution_count": 4,
   "id": "b43862d1",
   "metadata": {},
   "outputs": [],
   "source": [
    "def f():\n",
    "    global beta_J\n",
    "    global beta_h\n",
    "    global N_cfg\n",
    "    global x\n",
    "    \n",
    "    return(np.exp((beta_J*x**2)/2+beta_h*x))"
   ]
  },
  {
   "cell_type": "code",
   "execution_count": 5,
   "id": "ddaa0fe7",
   "metadata": {},
   "outputs": [],
   "source": [
    "def partition_func_theo():\n",
    "    global beta_h\n",
    "    global N_cfg\n",
    "    global beta_J\n",
    "    \n",
    "    Z = 0\n",
    "    \n",
    "    for n in range(N_cfg+1):\n",
    "        x = N_cfg-2*n\n",
    "        Z += sp.binom(N_cfg, n)*f()\n",
    "    \n",
    "    return(Z)"
   ]
  },
  {
   "cell_type": "code",
   "execution_count": 6,
   "id": "c1dbbcbd",
   "metadata": {},
   "outputs": [],
   "source": [
    "def beta_eps_theo():\n",
    "    global N_cfg\n",
    "    global beta_J\n",
    "    global beta_h\n",
    "    \n",
    "    value = 0\n",
    "    \n",
    "    for n in range(N_cfg+1):\n",
    "        \n",
    "        value += sp.binom(N_cfg, n)*(1/2*beta_J*(N_cfg-2*n)**2+beta_h*(N_cfg-2*n))*f(beta_J, beta_h, N_cfg-2*n)\n",
    "    \n",
    "    value = -value/(N_cfg*partition_func_theo())\n",
    "    \n",
    "    return(value)"
   ]
  },
  {
   "cell_type": "code",
   "execution_count": 7,
   "id": "98e2c8ca",
   "metadata": {},
   "outputs": [],
   "source": [
    "def m_theo():\n",
    "    global N_cfg\n",
    "    global beta_J\n",
    "    global beta_h\n",
    "    \n",
    "    value = 0\n",
    "    \n",
    "    for n in range(N_cfg+1):\n",
    "        x = N_cfg-2*n\n",
    "        value += sp.binom(N_cfg, n)*(N_cfg-2*n)*f()\n",
    "        \n",
    "    value = value/(N_cfg*partition_func_theo())\n",
    "        \n",
    "    return(value)"
   ]
  },
  {
   "cell_type": "code",
   "execution_count": 8,
   "id": "683c2e72",
   "metadata": {},
   "outputs": [],
   "source": [
    "def leapfrog(p_0,phi_0):\n",
    "    global beta \n",
    "    global J\n",
    "    global N \n",
    "    global h\n",
    "    global N_md\n",
    "    \n",
    "    eps=1/N_md\n",
    "    phi=phi_0+eps/2*p_0\n",
    "    p=p_0\n",
    "    for i in range(N_md-1):\n",
    "        p=p-eps*(phi/(beta*J)-N*mp.tanh(beta*h+phi))\n",
    "        phi=phi+eps*p\n",
    "    p=p-eps*(phi/(beta*J)-N*mp.tanh(beta*h+phi))\n",
    "    phi=phi+eps/2*p\n",
    "    \n",
    "    return[p,phi]"
   ]
  },
  {
   "cell_type": "code",
   "execution_count": 9,
   "id": "63ff39f8",
   "metadata": {},
   "outputs": [],
   "source": [
    "def H(p,phi):\n",
    "    global beta \n",
    "    global J \n",
    "    global h \n",
    "    \n",
    "    return p**2/2+phi**2/(2*beta*J)-N*mp.log(2*mp.cosh(beta*h+phi))"
   ]
  },
  {
   "cell_type": "code",
   "execution_count": 10,
   "id": "a953389c",
   "metadata": {},
   "outputs": [],
   "source": [
    "def HMC(): #Does one iteration of the Markov-Chain and return phi\n",
    "    global N_md\n",
    "    global p_0\n",
    "    global phi_0\n",
    "    \n",
    "    p = np.random.normal(loc=0.0, scale=1.0)\n",
    "    phi_l = leapfrog(p_0,phi_0)[1]\n",
    "    p_l =leapfrog(p_0,phi_0)[0]\n",
    "    \n",
    "    if np.exp(float(H(p,phi_0)-H(p_l,phi_l)))<1:\n",
    "        P_acc = np.exp(float(H(p,phi_0)-H(p_l,phi_l)))\n",
    "    else:\n",
    "        P_acc = 1\n",
    "        \n",
    "    if P_acc > np.random.rand(): \n",
    "        #p = p_l\n",
    "        phi_0 = phi_l\n",
    "        ar=+1\n",
    "        \n",
    "#    a_rate = ar/(N_x*N_y)*100\n",
    "    \n",
    "    return(phi_0, ar)"
   ]
  },
  {
   "cell_type": "code",
   "execution_count": 11,
   "id": "dae524a4",
   "metadata": {},
   "outputs": [],
   "source": [
    "def ensemble(): #Generates an ensemble of phi and counts the acceptance rate\n",
    "    global N_en\n",
    "    global N_md\n",
    "    global p_0\n",
    "    global phi_0\n",
    "    \n",
    "    phi_en_calc =np.zeros(N_en)\n",
    "    ar = 0\n",
    "    \n",
    "    for i in range(N_en):\n",
    "        phi_en_calc[i] = HMC()[0]\n",
    "    \n",
    "    ar = HMC()[1]/N_en*100\n",
    "    \n",
    "    return(phi_en_calc, ar)"
   ]
  },
  {
   "cell_type": "code",
   "execution_count": 12,
   "id": "ee49dca2",
   "metadata": {},
   "outputs": [],
   "source": [
    "def m_J_5():  \n",
    "#     global N_x\n",
    "#     global N_y\n",
    "    global h\n",
    "    global N_cfg\n",
    "    global beta_J\n",
    "    global I\n",
    "    global A\n",
    "    global ar\n",
    "    \n",
    "    E=20 #amount of points for the graph\n",
    "    #I=10 #initialization\n",
    "    #A=15 #autocorrelationcorrection\n",
    "    C=1000 #Number of components for an ensemble\n",
    "    D=4\n",
    "    \n",
    "    final_M=np.zeros(E+1) \n",
    "    M=0\n",
    "    \n",
    "    phi_en = ensemble()[0]      # ist diese Zeile nicht doppelt und könnte damit einmal entfernt werden?\n",
    "    colours=['b','g','r','c','m','y','k']    \n",
    "    J_x = np.zeros(E+1)\n",
    "    \n",
    "    for m in range(D): #different lattice sizes      \n",
    "        N_cfg=(m+1)*5\n",
    "        final_M=np.zeros(E+1)\n",
    "        \n",
    "        for j in range(E+1): #Calculation for different J\n",
    "            J=beta_J=0.2+(j/10)      # J=beta*J \\in [0.2, 2.2)\n",
    "            J_x[j]=J\n",
    "            phi_en = ensemble()[0]    \n",
    "            final_M[j] = calc_magn(phi_en)\n",
    "        print(\"Acceptance rate for lattice size \", N_cfg,\" :\", ensemble()[1])\n",
    "        plt.plot(J_x,final_M,color=colours[m+1],\\\n",
    "                 label='$N_{cfg}=$%s'%str(N_cfg))\n",
    "    plt.legend()\n",
    "    plt.xlabel(r\"$J$\")\n",
    "    plt.ylabel(r\"$m(J)$\")\n",
    "    plt.show()"
   ]
  },
  {
   "cell_type": "code",
   "execution_count": 13,
   "id": "21160ac1",
   "metadata": {},
   "outputs": [
    {
     "name": "stdout",
     "output_type": "stream",
     "text": [
      "Acceptance rate for lattice size  5  : 1.0\n",
      "Acceptance rate for lattice size  10  : 1.0\n",
      "Acceptance rate for lattice size  15  : 1.0\n",
      "Acceptance rate for lattice size  20  : 1.0\n"
     ]
    },
    {
     "data": {
      "image/png": "[encoded data removed]",
      "text/plain": [
       "<Figure size 640x480 with 1 Axes>"
      ]
     },
     "metadata": {},
     "output_type": "display_data"
    }
   ],
   "source": [
    "m_J_5()"
   ]
  },
  {
   "cell_type": "code",
   "execution_count": 14,
   "id": "25c25e24",
   "metadata": {},
   "outputs": [],
   "source": [
    "def e_J_5():  \n",
    "#     global N_x\n",
    "#     global N_y\n",
    "    global h\n",
    "    global N_cfg\n",
    "    global beta_J\n",
    "    global I\n",
    "    global A\n",
    "    \n",
    "    E=20 #amount of points for the graph\n",
    "    #I=100 #initialization\n",
    "    #A=15 #autocorrelationcorrection\n",
    "    C=1000 #Number of components for an ensemble\n",
    "    D=4\n",
    "    \n",
    "    final_eps=np.zeros(E+1) \n",
    "    M=0\n",
    "    J_x = np.zeros(E+1)\n",
    "    phi_en = ensemble()[0]      # ist diese Zeile nicht doppelt und könnte damit einmal entfernt werden?\n",
    "    colours=['b','g','r','c','m','y','k']    \n",
    "    \n",
    "    for m in range(D): #different lattice sizes      \n",
    "        N_cfg=(m+1)*5\n",
    "        final_M=np.zeros(E+1)\n",
    "        \n",
    "        for j in range(E+1): #Calculation for different J\n",
    "            J=beta_J=0.2+(j/10)      # J=beta*J \\in [0.2, 2.2)\n",
    "            J_x[j]=J\n",
    "            phi_en = ensemble()[0]    \n",
    "            final_eps[j] = calc_eps(phi_en)\n",
    "            \n",
    "        print(\"Acceptance rate for lattice size \", N_cfg,\" :\", ensemble()[1])\n",
    "        plt.plot(J_x,final_eps,color=colours[m+1],\\\n",
    "                 label='$N_{cfg}=$%s'%str(N_cfg))\n",
    "    plt.legend()\n",
    "    plt.xlabel(r\"$J$\")\n",
    "    plt.ylabel(r\"$e(J)$\")\n",
    "    plt.show()"
   ]
  },
  {
   "cell_type": "code",
   "execution_count": 15,
   "id": "cf47d634",
   "metadata": {},
   "outputs": [
    {
     "name": "stdout",
     "output_type": "stream",
     "text": [
      "Acceptance rate for lattice size  5  : 1.0\n",
      "Acceptance rate for lattice size  10  : 1.0\n",
      "Acceptance rate for lattice size  15  : 1.0\n",
      "Acceptance rate for lattice size  20  : 1.0\n"
     ]
    },
    {
     "data": {
      "image/png": "[encoded data removed]",
      "text/plain": [
       "<Figure size 640x480 with 1 Axes>"
      ]
     },
     "metadata": {},
     "output_type": "display_data"
    }
   ],
   "source": [
    "e_J_5()"
   ]
  },
  {
   "cell_type": "code",
   "execution_count": null,
   "id": "8a3deb77",
   "metadata": {},
   "outputs": [],
   "source": []
  }
 ],
 "metadata": {
  "kernelspec": {
   "display_name": "Python 3 (ipykernel)",
   "language": "python",
   "name": "python3"
  },
  "language_info": {
   "codemirror_mode": {
    "name": "ipython",
    "version": 3
   },
   "file_extension": ".py",
   "mimetype": "text/x-python",
   "name": "python",
   "nbconvert_exporter": "python",
   "pygments_lexer": "ipython3",
   "version": "3.9.10"
  }
 },
 "nbformat": 4,
 "nbformat_minor": 5
}

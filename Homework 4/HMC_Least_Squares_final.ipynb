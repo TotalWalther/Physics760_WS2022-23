{
 "cells": [
  {
   "cell_type": "code",
   "execution_count": 51,
   "id": "4818bdce",
   "metadata": {},
   "outputs": [],
   "source": [
    "#!/usr/bin/env python\n",
    "# coding: utf-8\n",
    "\n",
    "import numpy as np\n",
    "from  math import *\n",
    "import matplotlib.pyplot as plt\n",
    "import scipy.optimize as so\n",
    "import scipy.special as sp\n",
    "import mpmath as mp\n",
    "\n",
    "\n",
    "\n",
    "N_md = 10#Leapfrog integration steps\n",
    "N_cfg = 100000\n",
    "beta=1000\n",
    "phi=np.array((800,800,600))\n",
    "ar=0\n",
    "f_i=np.array((0.96,1.025,1.055,1.085,1.13))*1000\n",
    "x=np.array((0.176,0.234,0.260,0.284,0.324))\n",
    "delta_f=np.array((0.025,0.02,0.015,0.01,0.008))*1000"
   ]
  },
  {
   "cell_type": "markdown",
   "id": "bbcd9c46",
   "metadata": {},
   "source": [
    "This is just defining of variables and putting in the data."
   ]
  },
  {
   "cell_type": "code",
   "execution_count": 52,
   "id": "f9168041",
   "metadata": {},
   "outputs": [],
   "source": [
    "def leapfrog_plot():\n",
    "    global N_md\n",
    "    p=np.zeros(3)\n",
    "    phi=np.array((00,00,00))\n",
    "    for i in range(100):\n",
    "        for j in range(3):\n",
    "            p[j]=np.random.normal(loc=00.0, scale=1.0) \n",
    "        H_0=H(p,phi)\n",
    "        N_md=i*10+10\n",
    "        p_new,phi_new=leapfrog(p,phi)\n",
    "        plt.plot(i*10+10,abs((H(p_new,phi_new)-H_0)/H_0), 'x', color='b')\n",
    "        #print(p,phi)\n",
    "    plt.semilogy()    \n",
    "    plt.show() "
   ]
  },
  {
   "cell_type": "markdown",
   "id": "522f3e90",
   "metadata": {},
   "source": [
    "checking the leapfrog convergency by plotting the relative change in $H$ before and after the leapfrog step for different $N_{md}$ "
   ]
  },
  {
   "cell_type": "code",
   "execution_count": 53,
   "id": "22cf992a",
   "metadata": {},
   "outputs": [],
   "source": [
    "def leapfrog(p,phi_l):\n",
    "    # p_0_1,p_0_2,p_0_3,\n",
    "    global beta \n",
    "    global f\n",
    "    global x\n",
    "    global J\n",
    "    global N \n",
    "    global h\n",
    "    global N_md\n",
    "    \n",
    "    eps=1/N_md\n",
    "    phi_l=phi_l+eps/2*p\n",
    " \n",
    "    for i in range(N_md-1):\n",
    "        #print(np.sum(x**2*(f_i-phi[0]-phi[1]*x-phi[2]*x**2)/delta_f**2))\n",
    "        \n",
    "        p[0]=p[0]+eps*(beta*np.sum((f_i-phi_l[0]-phi_l[1]*x-phi_l[2]*x**2)/delta_f**2))\n",
    "        p[1]=p[1]+eps*(beta*np.sum(x*((f_i-phi_l[0]-phi_l[1]*x-phi_l[2]*x**2)/delta_f**2)))\n",
    "        p[2]=p[2]+eps*(beta*np.sum(x**2*(f_i-phi_l[0]-phi_l[1]*x-phi_l[2]*x**2)/delta_f**2))\n",
    "        phi_l=phi_l+eps*p\n",
    "        #print(p)\n",
    "    p[0]=p[0]+eps*(beta*np.sum((f_i-phi_l[0]-phi_l[1]*x-phi_l[2]*x**2)/delta_f**2))\n",
    "    p[1]=p[1]+eps*(beta*np.sum(x*(f_i-phi_l[0]-phi_l[1]*x-phi_l[2]*x**2)/delta_f**2))\n",
    "    p[2]=p[2]+eps*(beta*np.sum(x**2*(f_i-phi_l[0]-phi_l[1]*x-phi_l[2]*x**2)/delta_f**2))\n",
    "    phi_l=phi_l+eps/2*p\n",
    "    #print(p)\n",
    "    return p,phi_l"
   ]
  },
  {
   "cell_type": "markdown",
   "id": "bad6e212",
   "metadata": {},
   "source": [
    "input: $p$, $\\phi$; output: $p$, $\\phi$\n",
    "Normal leapfrog as last time. $\\tau=1$, but changeable. We do the calculations in arrays and then take the sum, which represents the sums from theory. "
   ]
  },
  {
   "cell_type": "code",
   "execution_count": 54,
   "id": "14647669",
   "metadata": {},
   "outputs": [],
   "source": [
    "def H(p,phi_h):\n",
    "    global beta \n",
    "    global J \n",
    "    global h \n",
    "    global f\n",
    "    global x\n",
    "    global delta_f\n",
    "    \n",
    "    return  np.sum(p**2)/2+beta*0.5*np.sum((f_i-(phi_h[0]+x*phi_h[1]+x**2*phi_h[2]))**2/delta_f**2)"
   ]
  },
  {
   "cell_type": "markdown",
   "id": "b283b40e",
   "metadata": {},
   "source": [
    "input p,phi: ; output: H(p,phi)"
   ]
  },
  {
   "cell_type": "code",
   "execution_count": 55,
   "id": "be8b145f",
   "metadata": {},
   "outputs": [],
   "source": [
    "def HMC():\n",
    "    global N_md\n",
    "    global p_0\n",
    "    global phi\n",
    "    #global p\n",
    "    global ar\n",
    "    \n",
    "    p=np.zeros(3)\n",
    "    for j in range(3):\n",
    "        p[j]=np.random.normal(loc=00.0, scale=1.0)\n",
    "    p_l,phi_l = leapfrog(p,phi)    \n",
    "    \n",
    "    \n",
    "    P_acc = np.exp(float(H(p,phi)-H(p_l,phi_l)))\n",
    "    \n",
    "        \n",
    "    if P_acc > np.random.rand(): \n",
    "        \n",
    "        phi = phi_l\n",
    "        ar=ar+1\n",
    "\n",
    "   "
   ]
  },
  {
   "cell_type": "markdown",
   "id": "f8ec7375",
   "metadata": {},
   "source": [
    "Classical HMC-Algo, which returns the next element of the markov chain. There is no real return, but the $\\phi$ is saved as a global variable. Candidates are created with the leapfrog-algo. In our case it also keeps track of the acceptance probability with ar."
   ]
  },
  {
   "cell_type": "code",
   "execution_count": 56,
   "id": "d7956f46",
   "metadata": {},
   "outputs": [],
   "source": [
    "def markov_chain():\n",
    "    global N_cfg\n",
    "    global x\n",
    "    global phi\n",
    "    \n",
    "    \n",
    "    phi_chain=[]\n",
    "    for i in range(N_cfg):\n",
    "        HMC()\n",
    "        phi_chain.append(phi)\n",
    "        #print(ar/(i+1))\n",
    "    print(ar/(N_cfg))\n",
    "    phi_chain=np.transpose(phi_chain)\n",
    "    plt.plot(phi_chain[0], label='$\\phi_0$')\n",
    "    plt.plot(phi_chain[1], label='$\\phi_1$')\n",
    "    plt.plot(phi_chain[2], label='$\\phi_2$')\n",
    "    plt.legend()\n",
    "    plt.show()\n",
    "    phi_0=np.average(phi_chain[0])\n",
    "    phi_1=np.average(phi_chain[1])\n",
    "    phi_2=np.average(phi_chain[2])\n",
    "    sigma_0=np.sqrt(np.average((phi_chain[0]-phi_0)**2))\n",
    "    sigma_1=np.sqrt(np.average((phi_chain[1]-phi_1)**2))\n",
    "    sigma_2=np.sqrt(np.average((phi_chain[2]-phi_2)**2))\n",
    "    print(phi_0,phi_1,phi_2,sigma_0,sigma_1,sigma_2) \n",
    "    x=np.append(x,.134977)\n",
    "    plt.plot(x,phi_0+phi_1*x+phi_2*x**2)\n",
    "    plt.plot(.134977,939.5,'x', color='r')\n",
    "    plt.show()\n",
    "    "
   ]
  },
  {
   "cell_type": "markdown",
   "id": "c925f9a7",
   "metadata": {},
   "source": [
    "This creates the marcov chain (phi_chain). It also does calculate all $\\phi$s and $\\sigma$s for our chain and plots the result as well as the real world solution"
   ]
  },
  {
   "cell_type": "code",
   "execution_count": 57,
   "id": "67a96212",
   "metadata": {},
   "outputs": [
    {
     "data": {
      "image/png": "[encoded data removed]",
      "text/plain": [
       "<Figure size 640x480 with 1 Axes>"
      ]
     },
     "metadata": {},
     "output_type": "display_data"
    }
   ],
   "source": [
    "leapfrog_plot()"
   ]
  },
  {
   "cell_type": "markdown",
   "id": "636ad081",
   "metadata": {},
   "source": [
    "leapgrog convergency looks very good. "
   ]
  },
  {
   "cell_type": "code",
   "execution_count": null,
   "id": "cec8ef7e",
   "metadata": {},
   "outputs": [],
   "source": [
    "N_md=10\n",
    "markov_chain()"
   ]
  },
  {
   "cell_type": "markdown",
   "id": "d1d38688",
   "metadata": {},
   "source": [
    "This is where things start to get strange. Even though our leapfrog convergency is great our values for $\\phi_1$ and $\\phi_2$ do not converge to the expected values $(800,600)$. I actually checked everything (model data, theoretical calculations, implementation...) several times and cant find a mistake there. My last guess would be that the calculations in the leapfrog do not work as i expect them to do, but I tested how the multiplication for arrays work in python and it should work as I implemented it. I definetly understood the theory and the idea behind the sheet and spend way too much time finding the error already. So ill stop here and hand in what we got. We calculated all the nessecary data from our chain, but its hard to interpret the results knowing that they are wrong. By the way, I dont know why the code is so slow in Jupyter, when i put it in spyder its a lot faster... "
   ]
  },
  {
   "cell_type": "code",
   "execution_count": null,
   "id": "7b212173",
   "metadata": {},
   "outputs": [],
   "source": []
  }
 ],
 "metadata": {
  "kernelspec": {
   "display_name": "Python 3 (ipykernel)",
   "language": "python",
   "name": "python3"
  },
  "language_info": {
   "codemirror_mode": {
    "name": "ipython",
    "version": 3
   },
   "file_extension": ".py",
   "mimetype": "text/x-python",
   "name": "python",
   "nbconvert_exporter": "python",
   "pygments_lexer": "ipython3",
   "version": "3.9.13"
  }
 },
 "nbformat": 4,
 "nbformat_minor": 5
}
